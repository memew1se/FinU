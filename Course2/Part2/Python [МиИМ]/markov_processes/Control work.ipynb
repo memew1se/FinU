{
 "cells": [
  {
   "cell_type": "code",
   "execution_count": 5,
   "metadata": {},
   "outputs": [],
   "source": [
    "import numpy as np\n",
    "from functools import lru_cache"
   ]
  },
  {
   "cell_type": "code",
   "execution_count": 26,
   "metadata": {},
   "outputs": [],
   "source": [
    "class TransitionMatrix:\n",
    "    \"\"\"Матрица переходов для определения вероятностей событий\"\"\"\n",
    "\n",
    "    def __init__(self, matrix: np.array):\n",
    "        self.matrix = matrix\n",
    "\n",
    "    def __str__(self):\n",
    "        return \"Матрица переходов:\\n\" + f\"{self.matrix}\"\n",
    "\n",
    "    def probability_of_transition(self, n: int) -> np.array:\n",
    "        \"\"\"Матрица вероятностей переходов из x в y за n шагов\"\"\"\n",
    "        return np.linalg.matrix_power(self.matrix, n)\n",
    "\n",
    "    def probability_of_first_transition(self, n: int) -> np.array:\n",
    "        \"\"\"Матрица вероятностей первого перехода за n шагов\"\"\"\n",
    "\n",
    "        previous_matrix = np.copy(self.matrix)\n",
    "        for i in range(n - 1):\n",
    "            previous_matrix = self.matrix_power_skip(self.matrix, previous_matrix)\n",
    "\n",
    "        return previous_matrix\n",
    "\n",
    "    def probability_of_last_transition(self, n: int) -> np.array:\n",
    "        \"\"\"Матрица вероятносей перехода не более n шагов\"\"\"\n",
    "\n",
    "        previous_matrix = np.copy(self.matrix)\n",
    "        res = np.copy(self.matrix)\n",
    "\n",
    "        for i in range(n - 1):\n",
    "            previous_matrix = self.matrix_power_skip(self.matrix, previous_matrix)\n",
    "            res += previous_matrix\n",
    "\n",
    "        return res\n",
    "\n",
    "    def probability_of_first_return(self, n: int) -> np.array:\n",
    "        \"\"\"Матрица вероятностей первого возвращения на n-ом шаге\"\"\"\n",
    "        matrix = np.copy(self.matrix)\n",
    "\n",
    "        def first(n_: int) -> np.array:\n",
    "            return self.probability_of_transition_static(matrix, n_) - \\\n",
    "                   sum([first(i) * self.probability_of_transition_static(matrix, n_ - i) for i in range(1, n_)])\n",
    "\n",
    "        return np.diagonal(first(n))\n",
    "\n",
    "    def probability_of_last_return(self, n: int) -> np.array:\n",
    "        matrix = np.copy(self.matrix)\n",
    "        result = []\n",
    "\n",
    "        def first(n_):\n",
    "            res = self.probability_of_transition_static(matrix, n_) - \\\n",
    "                  sum([first(i) * self.probability_of_transition_static(matrix, n_ - i) for i in range(1, n_)])\n",
    "            result.append(np.diagonal(res))\n",
    "            return res\n",
    "\n",
    "        first(n)\n",
    "\n",
    "        return sum(result)\n",
    "\n",
    "    def probability_of_state(self, initial_matrix: np.array, n: int) -> np.array:\n",
    "        \"\"\"Матрица вероятностей состояний спустя n шагов\"\"\"\n",
    "        return initial_matrix.dot(np.linalg.matrix_power(self.matrix, n))\n",
    "\n",
    "    def probability_of_steady_states(self) -> np.array:\n",
    "        \"\"\"Установившиеся вероятности\"\"\"\n",
    "\n",
    "        matrix = np.copy(self.matrix).transpose()\n",
    "        np.fill_diagonal(matrix, np.diagonal(matrix) - 1)\n",
    "        matrix[-1, :] = 1\n",
    "\n",
    "        vec = np.zeros(len(matrix))\n",
    "        vec[-1] = 1\n",
    "\n",
    "        return np.linalg.inv(matrix).dot(vec)\n",
    "\n",
    "    def average_time(self) -> float:\n",
    "        \"\"\"Среднее время возвращения\"\"\"\n",
    "        matrix = np.copy(self.matrix)\n",
    "        result = []\n",
    "\n",
    "        @lru_cache(maxsize=None)\n",
    "        def first(n_):\n",
    "            res = self.probability_of_transition_static(matrix, n_) - \\\n",
    "                  sum([first(i) * self.probability_of_transition_static(matrix, n_ - i) for i in range(1, n_)])\n",
    "            result.append(n_ * np.diagonal(res))\n",
    "            return res\n",
    "\n",
    "        first(1000)\n",
    "\n",
    "        return sum(result)\n",
    "\n",
    "    def average_steps(self) -> np.array:\n",
    "        \"\"\"Среднее количество шагов\"\"\"\n",
    "\n",
    "        previous_matrix = np.copy(self.matrix)\n",
    "        res = np.copy(self.matrix)\n",
    "\n",
    "        for i in range(1000):\n",
    "            previous_matrix = self.matrix_power_skip(self.matrix, previous_matrix)\n",
    "            res += i * previous_matrix\n",
    "\n",
    "        return res\n",
    "\n",
    "    @staticmethod\n",
    "    def matrix_power_skip(left: np.array, right: np.array) -> np.array:\n",
    "\n",
    "        r = range(len(left))\n",
    "        return np.array(\n",
    "            [[sum(left[i, m] * right[m, j] if m != j else 0 for m in r) for j in r] for i in r])\n",
    "\n",
    "    @staticmethod\n",
    "    def probability_of_transition_static(matrix: np.array, n: int) -> np.array:\n",
    "        return np.linalg.matrix_power(matrix, n)\n",
    "\n",
    "    \n",
    "class QueueBranch:\n",
    "    \"\"\"Система массового обслуживания для рассчета вероятностей событий\"\"\"\n",
    "\n",
    "    def __init__(self, l: int, m: int, u: int, n: int):\n",
    "        self.l = l\n",
    "        self.m = m\n",
    "        self.u = u\n",
    "        self.n = n\n",
    "\n",
    "        s = m + n\n",
    "        matrix = np.zeros((s + 1, s + 1))\n",
    "        np.fill_diagonal(matrix[:, 1:], l)\n",
    "        np.fill_diagonal(matrix[1:, :], [*[i * u for i in range(1, m)], *[m * u for j in range(n + 1)]])\n",
    "\n",
    "        self.matrix = matrix\n",
    "\n",
    "    def __str__(self):\n",
    "        return f\"lambda={self.l}\\n\" + f\"m={self.m}\\n\" + f\"u={self.u}\\n\" + f\"n={self.n}\\n\" + f\"{self.matrix}\"\n",
    "\n",
    "    def probability_of_steady_states(self):\n",
    "        \"\"\"Установившиеся вероятности\"\"\"\n",
    "\n",
    "        matrix = np.copy(self.matrix).transpose()\n",
    "        s = len(self.matrix)\n",
    "\n",
    "        np.fill_diagonal(matrix, [(-1) * sum(matrix[:, i]) for i in range(s)])\n",
    "        matrix[-1, :] = 1\n",
    "\n",
    "        vector = np.zeros(s)\n",
    "        vector[-1] = 1\n",
    "\n",
    "        return np.linalg.inv(matrix).dot(vector)\n",
    "\n",
    "    def service_intensity(self) -> tuple:\n",
    "        \"\"\"Относительная и абсолютная иненсивность обслуживания\"\"\"\n",
    "\n",
    "        relative = 1 - self.probability_of_failure()\n",
    "        absolute = relative * self.l\n",
    "\n",
    "        return relative, absolute\n",
    "\n",
    "    def probability_of_failure(self) -> float:\n",
    "        \"\"\"Вероятность отказа в обслуживании\"\"\"\n",
    "        return self.probability_of_steady_states()[-1]\n",
    "\n",
    "    def probability_of_skip(self) -> float:\n",
    "        \"\"\"Вероятность, что поступающая заявка не будет ждать в очереди\"\"\"\n",
    "        return sum(self.probability_of_steady_states()[:self.m])\n",
    "\n",
    "    def average_length(self) -> float:\n",
    "        \"\"\"Средняя длина в очереди\"\"\"\n",
    "        return sum((i * self.probability_of_steady_states()[self.m + i]) for i in range(1, self.n + 1))\n",
    "\n",
    "    def average_time(self) -> float:\n",
    "        \"\"\"Среднее время в очереди\"\"\"\n",
    "        return sum(((i + 1) / (self.m * self.u) *\n",
    "                    self.probability_of_steady_states()[self.m + i]) for i in range(self.n))\n",
    "\n",
    "    def average_busy_channels(self) -> float:\n",
    "        \"\"\"Среднее число занятых каналов\"\"\"\n",
    "        return (sum((i * self.probability_of_steady_states()[i]) for i in range(1, self.m + 1)) +\n",
    "                sum((self.m * self.probability_of_steady_states()[i]) for i in range(self.m + 1, self.m + self.n + 1)))\n",
    "\n",
    "    def average_wait_time(self) -> float:\n",
    "        \"\"\"Среднее время простоя системы массового обслуживания\"\"\"\n",
    "\n",
    "        res = 1 / np.sum(self.matrix, axis=1)\n",
    "        return res[0]"
   ]
  },
  {
   "cell_type": "markdown",
   "metadata": {},
   "source": [
    "# Задание 1\n",
    "Система имеет 14 дискретных состояний. Изменение состояний происходит\n",
    "в дискретные моменты времени с заданной вероятностью. Схема марковского\n",
    "процесса изображена на рисунке"
   ]
  },
  {
   "cell_type": "markdown",
   "metadata": {},
   "source": [
    "![](src/state_graph.png)"
   ]
  },
  {
   "cell_type": "code",
   "execution_count": 9,
   "metadata": {},
   "outputs": [
    {
     "name": "stdout",
     "output_type": "stream",
     "text": [
      "Матрица переходов:\n",
      "[[0.05 0.41 0.18 0.36 0.   0.   0.   0.   0.   0.   0.   0.   0.   0.  ]\n",
      " [0.27 0.14 0.   0.   0.   0.   0.27 0.32 0.   0.   0.   0.   0.   0.  ]\n",
      " [0.22 0.   0.05 0.19 0.   0.36 0.   0.08 0.1  0.   0.   0.   0.   0.  ]\n",
      " [0.   0.   0.   0.34 0.66 0.   0.   0.   0.   0.   0.   0.   0.   0.  ]\n",
      " [0.   0.   0.   0.   0.42 0.   0.57 0.   0.01 0.   0.   0.   0.   0.  ]\n",
      " [0.   0.   0.   0.09 0.21 0.22 0.21 0.   0.   0.06 0.21 0.   0.   0.  ]\n",
      " [0.   0.   0.   0.   0.19 0.22 0.17 0.12 0.   0.   0.3  0.   0.   0.  ]\n",
      " [0.   0.   0.   0.   0.   0.   0.38 0.56 0.06 0.   0.   0.   0.   0.  ]\n",
      " [0.   0.   0.12 0.   0.   0.   0.   0.23 0.3  0.   0.27 0.08 0.   0.  ]\n",
      " [0.   0.   0.   0.   0.   0.   0.   0.11 0.   0.41 0.42 0.   0.06 0.  ]\n",
      " [0.   0.   0.   0.   0.   0.   0.   0.   0.31 0.   0.14 0.36 0.19 0.  ]\n",
      " [0.   0.   0.   0.   0.   0.27 0.33 0.   0.   0.   0.14 0.04 0.   0.22]\n",
      " [0.   0.   0.   0.   0.   0.   0.   0.   0.   0.   0.65 0.   0.35 0.  ]\n",
      " [0.   0.   0.   0.   0.   0.   0.   0.   0.   0.11 0.36 0.   0.   0.53]]\n"
     ]
    }
   ],
   "source": [
    "transition_matrix = np.array([\n",
    "        [0.05, 0.41, 0.18, 0.36, 0, 0, 0, 0, 0, 0, 0, 0, 0, 0],\n",
    "        [0.27, 0.14, 0, 0, 0, 0, 0.27, 0.32, 0, 0, 0, 0, 0, 0],\n",
    "        [0.22, 0, 0.05, 0.19, 0, 0.36, 0, 0.08, 0.1, 0, 0, 0, 0, 0],\n",
    "        [0, 0, 0, 0.34, 0.66, 0, 0, 0, 0, 0, 0, 0, 0, 0],\n",
    "        [0, 0, 0, 0, 0.42, 0, 0.57, 0, 0.01, 0, 0, 0, 0, 0],\n",
    "        [0, 0, 0, 0.09, 0.21, 0.22, 0.21, 0, 0, 0.06, 0.21, 0, 0, 0],\n",
    "        [0, 0, 0, 0, 0.19, 0.22, 0.17, 0.12, 0, 0, 0.3, 0, 0, 0],\n",
    "        [0, 0, 0, 0, 0, 0, 0.38, 0.56, 0.06, 0, 0, 0, 0, 0],\n",
    "        [0, 0, 0.12, 0, 0, 0, 0, 0.23, 0.3, 0, 0.27, 0.08, 0, 0],\n",
    "        [0, 0, 0, 0, 0, 0, 0, 0.11, 0, 0.41, 0.42, 0, 0.06, 0],\n",
    "        [0, 0, 0, 0, 0, 0, 0, 0, 0.31, 0, 0.14, 0.36, 0.19, 0],\n",
    "        [0, 0, 0, 0, 0, 0.27, 0.33, 0, 0, 0, 0.14, 0.04, 0, 0.22],\n",
    "        [0, 0, 0, 0, 0, 0, 0, 0, 0, 0, 0.65, 0, 0.35, 0],\n",
    "        [0, 0, 0, 0, 0, 0, 0, 0, 0, 0.11, 0.36, 0, 0, 0.53]\n",
    "    ])\n",
    "\n",
    "tm = TransitionMatrix(transition_matrix)\n",
    "print(tm)"
   ]
  },
  {
   "cell_type": "markdown",
   "metadata": {},
   "source": [
    "Требуюется определить:\n",
    "1) Вероятность того, что за 9 шагов система перейдет из состояния 5 в состояние 2  \n",
    "2) Вероятности состояний системы спустя 7 шагов, если в начальный момент вероятность состояний были следующими<br/> <center>A=(0,07; 0,03; 0,14; 0,14; 0,16; 0,03; 0,06; 0,05; 0; 0,09; 0,02; 0,15; 0; 0,06)</center> \n",
    "3) Вероятность первого перехода за 10 шагов из состояния 12 в состояние 4  \n",
    "4) Вероятность перехода из состояния 13 в состояние 2 не позднее чем за 8 шагов  \n",
    "5) Среднее количество шагов для перехода из состояния 7 в состояние 14  \n",
    "6) Вероятность первого возвращения в состояние 6 за 8 шагов  \n",
    "7) Вероятность возвращения в состояние 6 не позднее чем за 6 шагов  \n",
    "8) Среднее время возвращения в состояние 2  \n",
    "9) Установившиеся вероятности  "
   ]
  },
  {
   "cell_type": "markdown",
   "metadata": {},
   "source": [
    "### 1) Вероятность того, что за 9 шагов система перейдет из состояния 5 в состояние 2"
   ]
  },
  {
   "cell_type": "code",
   "execution_count": 11,
   "metadata": {},
   "outputs": [
    {
     "name": "stdout",
     "output_type": "stream",
     "text": [
      "1) 0.0013983963152081997\n"
     ]
    }
   ],
   "source": [
    "n = 9\n",
    "state1 = 5\n",
    "state2 = 2\n",
    "print(\"1)\", end=\" \")\n",
    "print(tm.probability_of_transition(n)[state1 - 1, state2 - 1])"
   ]
  },
  {
   "cell_type": "markdown",
   "metadata": {},
   "source": [
    "### 2) Вероятности состояний системы спустя 7 шагов, если в начальный момент вероятности состояний были следующими\n",
    "A=(0,07; 0,03; 0,14; 0,14; 0,16; 0,03; 0,06; 0,05; 0; 0,09; 0,02; 0,15; 0; 0,06)"
   ]
  },
  {
   "cell_type": "code",
   "execution_count": 12,
   "metadata": {},
   "outputs": [
    {
     "name": "stdout",
     "output_type": "stream",
     "text": [
      "2) [0.00324811 0.00163836 0.01207108 0.01723065 0.12047212 0.0863834\n",
      " 0.18924168 0.10628574 0.09383809 0.01457595 0.18956774 0.07746487\n",
      " 0.05485667 0.03312554]\n"
     ]
    }
   ],
   "source": [
    "n = 7\n",
    "A = np.array([0.07, 0.03, 0.14, 0.14, 0.16, 0.03, 0.06, 0.05, 0, 0.09, 0.02, 0.15, 0, 0.06])\n",
    "print(\"2)\", end=\" \")\n",
    "print(tm.probability_of_state(A, n))"
   ]
  },
  {
   "cell_type": "markdown",
   "metadata": {},
   "source": [
    "### 3) Вероятность первого перехода за 10 шагов из состояния 12 в состояние 4"
   ]
  },
  {
   "cell_type": "code",
   "execution_count": 13,
   "metadata": {},
   "outputs": [
    {
     "name": "stdout",
     "output_type": "stream",
     "text": [
      "3) 0.010714604595470115\n"
     ]
    }
   ],
   "source": [
    "n = 10\n",
    "state1 = 12\n",
    "state2 = 4\n",
    "print(\"3)\", end=\" \")\n",
    "print(tm.probability_of_first_transition(n)[state1 - 1, state2 - 1])"
   ]
  },
  {
   "cell_type": "markdown",
   "metadata": {},
   "source": [
    "### 4) Вероятность перехода из состояния 13 в состояние 2 не позднее чем за 8 шагов"
   ]
  },
  {
   "cell_type": "code",
   "execution_count": 14,
   "metadata": {},
   "outputs": [
    {
     "name": "stdout",
     "output_type": "stream",
     "text": [
      "4) 0.007593418179203999\n"
     ]
    }
   ],
   "source": [
    "n = 8\n",
    "state1 = 13\n",
    "state2 = 2\n",
    "print(\"4)\", end=\" \")\n",
    "print(tm.probability_of_last_transition(n)[state1 - 1, state2 - 1])"
   ]
  },
  {
   "cell_type": "markdown",
   "metadata": {},
   "source": [
    "### 5) Среднее количество шагов для перехода из состояния 7 в состояние 14"
   ]
  },
  {
   "cell_type": "code",
   "execution_count": 17,
   "metadata": {},
   "outputs": [
    {
     "name": "stdout",
     "output_type": "stream",
     "text": [
      "5) 56.702811058819805\n"
     ]
    }
   ],
   "source": [
    "state1 = 7\n",
    "state2 = 14\n",
    "print(\"5)\", end=\" \")\n",
    "print(tm.average_steps()[state1 - 1, state2 - 1])"
   ]
  },
  {
   "cell_type": "markdown",
   "metadata": {},
   "source": [
    "### 6) Вероятность первого возвращения в состояние 6 за 8 шагов"
   ]
  },
  {
   "cell_type": "code",
   "execution_count": 18,
   "metadata": {},
   "outputs": [
    {
     "name": "stdout",
     "output_type": "stream",
     "text": [
      "6) 0.0360846370875198\n"
     ]
    }
   ],
   "source": [
    "n = 8\n",
    "target_state = 6\n",
    "print(\"6)\", end=\" \")\n",
    "print(tm.probability_of_first_return(n)[target_state - 1])"
   ]
  },
  {
   "cell_type": "markdown",
   "metadata": {},
   "source": [
    "### 7) Вероятность возвращения в состояние 6 не позднее чем за 6 шагов"
   ]
  },
  {
   "cell_type": "code",
   "execution_count": 19,
   "metadata": {},
   "outputs": [
    {
     "name": "stdout",
     "output_type": "stream",
     "text": [
      "7) [0.00615735 0.00161389 0.03769317 0.14719761 0.52883931 0.46673046\n",
      " 0.74646333 0.20474904 0.28412691 0.10122181 0.66386905 0.32833063\n",
      " 0.16455144 0.06369556]\n"
     ]
    }
   ],
   "source": [
    "n = 6\n",
    "target_state = 6\n",
    "print(\"7)\", end=\" \")\n",
    "print(tm.probability_of_last_transition(n)[target_state - 1])"
   ]
  },
  {
   "cell_type": "markdown",
   "metadata": {},
   "source": [
    "### 8) Среднее время возвращения в состояние 2"
   ]
  },
  {
   "cell_type": "code",
   "execution_count": 20,
   "metadata": {},
   "outputs": [
    {
     "name": "stdout",
     "output_type": "stream",
     "text": [
      "8) 212.18451600824784\n"
     ]
    }
   ],
   "source": [
    "target_state = 2\n",
    "print(\"8)\", end=\" \")\n",
    "print(tm.average_time()[target_state - 1])"
   ]
  },
  {
   "cell_type": "markdown",
   "metadata": {},
   "source": [
    "### 9) Установившиеся вероятности"
   ]
  },
  {
   "cell_type": "code",
   "execution_count": 21,
   "metadata": {},
   "outputs": [
    {
     "name": "stdout",
     "output_type": "stream",
     "text": [
      "9) [0.00352052 0.00167839 0.01314242 0.0172015  0.10836326 0.08431708\n",
      " 0.17784797 0.10765456 0.0987634  0.01565626 0.19444268 0.08114629\n",
      " 0.05828229 0.03798337]\n"
     ]
    }
   ],
   "source": [
    "print(\"9)\", end=\" \")\n",
    "print(tm.probability_of_steady_states())"
   ]
  },
  {
   "cell_type": "markdown",
   "metadata": {},
   "source": [
    "# Задание 2  \n",
    "Задана система массового обслуживания со следующими характеристиками:  \n",
    "* Интенсивность поступления λ = 25\t\n",
    "* Каналов обслуживания m = 6\n",
    "* Интенсиность обслуживания μ = 5\n",
    "* Максимальный размер очереди n = 6"
   ]
  },
  {
   "cell_type": "markdown",
   "metadata": {},
   "source": [
    "Изначально требований в системе нет  \n",
    "a) Составьте граф марковского процесса, запишите систему уравнений Колмогорова и найдите установившиеся вероятности состояний  \n",
    "b) Найдите вероятность отказа в обслуживании  \n",
    "c) Найдите относительную и абсолютную интенсивность обслуживания  \n",
    "d) Найдите среднюю длину в очереди  \n",
    "e) Найдите среднее время в очереди  \n",
    "f) Найдите среднее число занятых каналов  \n",
    "g) Найдите вероятность того, что поступающая заявка не будет ждать в очереди  \n",
    "h) Найти среднее время простоя системы массового обслуживания  \n",
    "i) Найти среднее время, когда в системе нет очереди"
   ]
  },
  {
   "cell_type": "code",
   "execution_count": 27,
   "metadata": {},
   "outputs": [
    {
     "name": "stdout",
     "output_type": "stream",
     "text": [
      "lambda=25\n",
      "m=6\n",
      "u=5\n",
      "n=6\n",
      "[[ 0. 25.  0.  0.  0.  0.  0.  0.  0.  0.  0.  0.  0.]\n",
      " [ 5.  0. 25.  0.  0.  0.  0.  0.  0.  0.  0.  0.  0.]\n",
      " [ 0. 10.  0. 25.  0.  0.  0.  0.  0.  0.  0.  0.  0.]\n",
      " [ 0.  0. 15.  0. 25.  0.  0.  0.  0.  0.  0.  0.  0.]\n",
      " [ 0.  0.  0. 20.  0. 25.  0.  0.  0.  0.  0.  0.  0.]\n",
      " [ 0.  0.  0.  0. 25.  0. 25.  0.  0.  0.  0.  0.  0.]\n",
      " [ 0.  0.  0.  0.  0. 30.  0. 25.  0.  0.  0.  0.  0.]\n",
      " [ 0.  0.  0.  0.  0.  0. 30.  0. 25.  0.  0.  0.  0.]\n",
      " [ 0.  0.  0.  0.  0.  0.  0. 30.  0. 25.  0.  0.  0.]\n",
      " [ 0.  0.  0.  0.  0.  0.  0.  0. 30.  0. 25.  0.  0.]\n",
      " [ 0.  0.  0.  0.  0.  0.  0.  0.  0. 30.  0. 25.  0.]\n",
      " [ 0.  0.  0.  0.  0.  0.  0.  0.  0.  0. 30.  0. 25.]\n",
      " [ 0.  0.  0.  0.  0.  0.  0.  0.  0.  0.  0. 30.  0.]]\n"
     ]
    }
   ],
   "source": [
    "qb = QueueBranch(25, 6, 5, 6)\n",
    "print(qb)"
   ]
  },
  {
   "cell_type": "markdown",
   "metadata": {},
   "source": [
    "### a) Составьте граф марковского процесса, запишите систему уравнений Колмогорова и найдите установившиеся вероятности состояний"
   ]
  },
  {
   "cell_type": "markdown",
   "metadata": {},
   "source": [
    "![](src/gmp.png)"
   ]
  },
  {
   "cell_type": "markdown",
   "metadata": {},
   "source": [
    "![](src/cuk.png)"
   ]
  },
  {
   "cell_type": "code",
   "execution_count": 28,
   "metadata": {},
   "outputs": [
    {
     "name": "stdout",
     "output_type": "stream",
     "text": [
      "a) [0.00539705 0.02698527 0.06746318 0.11243864 0.1405483  0.1405483\n",
      " 0.11712358 0.09760299 0.08133582 0.06777985 0.05648321 0.04706934\n",
      " 0.03922445]\n"
     ]
    }
   ],
   "source": [
    "print(\"a)\", end=\" \")\n",
    "print(qb.probability_of_steady_states())"
   ]
  },
  {
   "cell_type": "markdown",
   "metadata": {},
   "source": [
    "### b) Найдите вероятность отказа в обслуживании"
   ]
  },
  {
   "cell_type": "code",
   "execution_count": 30,
   "metadata": {},
   "outputs": [
    {
     "name": "stdout",
     "output_type": "stream",
     "text": [
      "b) 0.03922445120067937\n"
     ]
    }
   ],
   "source": [
    "print(\"b)\", end=\" \")\n",
    "print(qb.probability_of_failure())"
   ]
  },
  {
   "cell_type": "markdown",
   "metadata": {},
   "source": [
    "### c) Найдите относительную и абсолютную интенсивность обслуживания"
   ]
  },
  {
   "cell_type": "code",
   "execution_count": 36,
   "metadata": {},
   "outputs": [
    {
     "name": "stdout",
     "output_type": "stream",
     "text": [
      "c) Относительная интенсиновсть = 0.9607755487993206; абсолютная интенсивность = 24.019388719983013\n"
     ]
    }
   ],
   "source": [
    "print(\"c)\", end=\" \")\n",
    "print(\"Относительная интенсиновсть = %s; абсолютная интенсивность = %s\" % qb.service_intensity())"
   ]
  },
  {
   "cell_type": "markdown",
   "metadata": {},
   "source": [
    "### d) Найдите среднюю длину в очереди"
   ]
  },
  {
   "cell_type": "code",
   "execution_count": 37,
   "metadata": {},
   "outputs": [
    {
     "name": "stdout",
     "output_type": "stream",
     "text": [
      "d) 1.1602404387795195\n"
     ]
    }
   ],
   "source": [
    "print(\"d)\", end=\" \")\n",
    "print(qb.average_length())"
   ]
  },
  {
   "cell_type": "markdown",
   "metadata": {},
   "source": [
    "### e) Найдите среднее время в очереди"
   ]
  },
  {
   "cell_type": "code",
   "execution_count": 38,
   "metadata": {},
   "outputs": [
    {
     "name": "stdout",
     "output_type": "stream",
     "text": [
      "e) 0.04640961755118078\n"
     ]
    }
   ],
   "source": [
    "print(\"e)\", end=\" \")\n",
    "print(qb.average_time())"
   ]
  },
  {
   "cell_type": "markdown",
   "metadata": {},
   "source": [
    "### f) Найдите среднее число занятых каналов"
   ]
  },
  {
   "cell_type": "code",
   "execution_count": 39,
   "metadata": {},
   "outputs": [
    {
     "name": "stdout",
     "output_type": "stream",
     "text": [
      "f) 4.803877743996605\n"
     ]
    }
   ],
   "source": [
    "print(\"f)\", end=\" \")\n",
    "print(qb.average_busy_channels())"
   ]
  },
  {
   "cell_type": "markdown",
   "metadata": {},
   "source": [
    "### g) Найдите вероятность того, что поступающая заявка не будет ждать в очереди"
   ]
  },
  {
   "cell_type": "code",
   "execution_count": 40,
   "metadata": {},
   "outputs": [
    {
     "name": "stdout",
     "output_type": "stream",
     "text": [
      "g) 0.4933807538393408\n"
     ]
    }
   ],
   "source": [
    "print(\"g)\", end=\" \")\n",
    "print(qb.probability_of_skip())"
   ]
  },
  {
   "cell_type": "markdown",
   "metadata": {},
   "source": [
    "### h) Найти среднее время простоя системы массового обслуживания  "
   ]
  },
  {
   "cell_type": "code",
   "execution_count": 41,
   "metadata": {},
   "outputs": [
    {
     "name": "stdout",
     "output_type": "stream",
     "text": [
      "h) 0.04\n"
     ]
    }
   ],
   "source": [
    "print(\"h)\", end=\" \")\n",
    "print(qb.average_wait_time())"
   ]
  }
 ],
 "metadata": {
  "kernelspec": {
   "display_name": "Python 3",
   "language": "python",
   "name": "python3"
  },
  "language_info": {
   "codemirror_mode": {
    "name": "ipython",
    "version": 3
   },
   "file_extension": ".py",
   "mimetype": "text/x-python",
   "name": "python",
   "nbconvert_exporter": "python",
   "pygments_lexer": "ipython3",
   "version": "3.8.5"
  }
 },
 "nbformat": 4,
 "nbformat_minor": 4
}
